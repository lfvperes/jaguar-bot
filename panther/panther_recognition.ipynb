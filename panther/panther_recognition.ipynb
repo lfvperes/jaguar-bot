{
  "nbformat": 4,
  "nbformat_minor": 0,
  "metadata": {
    "colab": {
      "name": "panther-recognition.ipynb",
      "provenance": [],
      "collapsed_sections": [],
      "authorship_tag": "ABX9TyM+u6B+hZpLD/+k+fMmj5ID",
      "include_colab_link": true
    },
    "kernelspec": {
      "name": "python3",
      "display_name": "Python 3"
    }
  },
  "cells": [
    {
      "cell_type": "markdown",
      "metadata": {
        "id": "view-in-github",
        "colab_type": "text"
      },
      "source": [
        "<a href=\"https://colab.research.google.com/github/lfvperes/jaguar-bot/blob/main/panther/panther_recognition.ipynb\" target=\"_parent\"><img src=\"https://colab.research.google.com/assets/colab-badge.svg\" alt=\"Open In Colab\"/></a>"
      ]
    },
    {
      "cell_type": "markdown",
      "metadata": {
        "id": "XdsPAnT_xX5Q"
      },
      "source": [
        "## Motivation\r\n",
        "The [MS Cognitive Services Computer Vision API](https://docs.microsoft.com/en-us/azure/cognitive-services/computer-vision/concept-tagging-images) and the [MS AI for Earth Species Classification API](https://speciesclassification.westus2.cloudapp.azure.com) are very powerful and useful tools. However, both are **unable** to identify the black jaguar (A.K.A. black panther). \r\n",
        "## About the black jaguar and the APIs\r\n",
        "Black jaguars are the same species as jaguars (A.K.A. spotted jaguars), that is, *panthera onca*.  \r\n",
        "Although the mentioned APIs are more than capable to identify spotted jaguars correctly, the same is not true for black jaguars. In this case, they are usually classified as dogs, bears, or no particular species at all. The intention on this study improve the model to include black jaguars.  \r\n",
        "The [MS Species Classification API GitHub repository](https://github.com/Microsoft/SpeciesClassification) contains publicly available files with a PyTorch model and a ONNX file. Here, the ONNX model will be loaded into TensorFlow to be trained.\r\n",
        "\r\n",
        "![](https://wallpapercave.com/wp/rgebyZJ.jpg)"
      ]
    },
    {
      "cell_type": "markdown",
      "metadata": {
        "id": "xS1rgiFN2R_M"
      },
      "source": [
        "### Step 0: Installing dependencies\r\n",
        "- Installing ONNX and TensorFlow\r\n",
        "  - `!pip install onnx`\r\n",
        "  - _TensorFlow does not need installing in Google Colab._\r\n",
        "- Installing ONNX-TF:  \r\n",
        "  - `!git clone https://github.com/onnx/onnx-tensorflow.git && cd onnx-tensorflow`\r\n",
        "  - `!pip install -e .`"
      ]
    },
    {
      "cell_type": "code",
      "metadata": {
        "id": "HsRkvimUpKGn"
      },
      "source": [
        "!pip install onnx"
      ],
      "execution_count": null,
      "outputs": []
    },
    {
      "cell_type": "code",
      "metadata": {
        "id": "Q5Q32Q0k6Tkd"
      },
      "source": [
        "!git clone https://github.com/onnx/onnx-tensorflow.git && cd onnx-tensorflow"
      ],
      "execution_count": null,
      "outputs": []
    },
    {
      "cell_type": "code",
      "metadata": {
        "id": "8h9t-mdT7PR5"
      },
      "source": [
        "!pip install -e ."
      ],
      "execution_count": null,
      "outputs": []
    },
    {
      "cell_type": "markdown",
      "metadata": {
        "id": "o7Lk5gLT2a8F"
      },
      "source": [
        "### Step 1: Preparing an ONNX model to be imported\r\n",
        "The model used here is the one trained by Microsoft and made publicly available in [this repository](https://github.com/Microsoft/SpeciesClassification).\r\n",
        "\r\n",
        "### Step 2: Importing the ONNX model into TensorFlow"
      ]
    },
    {
      "cell_type": "code",
      "metadata": {
        "id": "z748eDgwnbwh"
      },
      "source": [
        "import onnx\r\n",
        "from onnx_tf.backend import prepare\r\n",
        "\r\n",
        "import tensorflow as tf\r\n",
        "import numpy as np\r\n",
        "import cv2\r\n",
        "\r\n",
        "import warnings\r\n",
        "\r\n",
        "# ignore warnings from tensorflow\r\n",
        "warnings.filterwarnings('ignore')\r\n"
      ],
      "execution_count": 17,
      "outputs": []
    },
    {
      "cell_type": "markdown",
      "metadata": {
        "id": "8GYnwxhq1feW"
      },
      "source": [
        "`tf_rep` is a python class, containing four members:\r\n",
        "- `inputs`: Input nodes to the model\r\n",
        "- `outputs`: Output nodes from the model\r\n",
        "- `tensor_dict`: All nodes in the model\r\n",
        "- `graph`: ..."
      ]
    },
    {
      "cell_type": "code",
      "metadata": {
        "id": "Md8Qv70gpA8V"
      },
      "source": [
        "file_path = \"/content/output/species_classification.2019.12.00.onnx\"\r\n",
        "# loading ONNX model from file\r\n",
        "onnx_model = onnx.load(file_path)\r\n",
        "\r\n",
        "# import the ONNX model to TensorFlow\r\n",
        "tf_rep = prepare(onnx_model)"
      ],
      "execution_count": null,
      "outputs": []
    },
    {
      "cell_type": "markdown",
      "metadata": {
        "id": "QPmPcOBj21J4"
      },
      "source": [
        "### Step 3: Preparing input for inference"
      ]
    },
    {
      "cell_type": "code",
      "metadata": {
        "id": "ExO82xZxtLlm"
      },
      "source": [
        "#exporting the model as .pb\r\n",
        "tf_rep.export_graph(\"output/model.pb\")\r\n",
        "\r\n",
        "# disabling warnings generated by tensorflow\r\n",
        "logging.disable(logging.WARNING)\r\n",
        "os.environ[\"TF_CPP_MIN_LOG_LEVEL\"] = \"3\"\r\n",
        "\r\n",
        "INPUT_TENSOR_NAME = 'input.1:0'\r\n",
        "OUTPUT_TENSOR_NAME = 'add_4:0'\r\n",
        "IMAGE_PATH=\"0.png\"\r\n",
        "PB_PATH=\"output/model.pb\""
      ],
      "execution_count": null,
      "outputs": []
    }
  ]
}